{
 "cells": [
  {
   "cell_type": "markdown",
   "metadata": {},
   "source": [
    "# Depth first search"
   ]
  },
  {
   "cell_type": "code",
   "execution_count": 1,
   "metadata": {},
   "outputs": [
    {
     "name": "stdout",
     "output_type": "stream",
     "text": [
      "A\n",
      "B\n",
      "E\n",
      "H\n",
      "C\n",
      "D\n",
      "F\n"
     ]
    }
   ],
   "source": [
    "# Using a Python dictionary to act as an adjacency list\n",
    "\n",
    "graph = {\n",
    "    'A' : ['B','C'],\n",
    "    'B' : ['E'],\n",
    "    'C' : ['D'],\n",
    "    'D' : ['E','F'],\n",
    "    'E' : ['H'],\n",
    "    'F' : ['H'],\n",
    "    'H': []\n",
    "}\n",
    "\n",
    "\n",
    "visited = set() # Set to keep track of visited nodes.\n",
    "\n",
    "def dfs(visited, graph, node):\n",
    "    if node not in visited:\n",
    "        print (node)\n",
    "        visited.add(node)\n",
    "        for neighbour in graph[node]:\n",
    "            dfs(visited, graph, neighbour)\n",
    "# Driver Code\n",
    "dfs(visited, graph, 'A')"
   ]
  },
  {
   "cell_type": "markdown",
   "metadata": {},
   "source": [
    "# Breadth first search"
   ]
  },
  {
   "cell_type": "code",
   "execution_count": 2,
   "metadata": {},
   "outputs": [
    {
     "name": "stdout",
     "output_type": "stream",
     "text": [
      "A B C E D H F "
     ]
    }
   ],
   "source": [
    "graph = {\n",
    "    'A' : ['B','C'],\n",
    "    'B' : ['E'],\n",
    "    'C' : ['D'],\n",
    "    'D' : ['E','F'],\n",
    "    'E' : ['H'],\n",
    "    'F' : ['H'],\n",
    "    'H': []\n",
    "}\n",
    "\n",
    "\n",
    "\n",
    "visited = [] # List to keep track of visited nodes.\n",
    "queue = []     #Initialize a queue\n",
    "\n",
    "def bfs(visited, graph, node):\n",
    "    visited.append(node)\n",
    "    queue.append(node)\n",
    "\n",
    "    while queue:\n",
    "        s = queue.pop(0) \n",
    "        print (s, end = \" \") \n",
    "\n",
    "        for neighbour in graph[s]:\n",
    "            if neighbour not in visited:\n",
    "                visited.append(neighbour)\n",
    "                queue.append(neighbour)\n",
    "\n",
    "# Driver Code\n",
    "bfs(visited, graph, 'A')"
   ]
  },
  {
   "cell_type": "markdown",
   "metadata": {},
   "source": [
    "# Uniform Cost Search"
   ]
  },
  {
   "cell_type": "code",
   "execution_count": 3,
   "metadata": {},
   "outputs": [],
   "source": [
    "graph = {\n",
    "    'S':[('A',2),('B',3),('D',5)],\n",
    "    'A':[('C',4)],\n",
    "    'B':[('D',4)],\n",
    "    'C':[('D',1),('G',2)],\n",
    "    'D':[('G',5)],\n",
    "    #'G':[]\n",
    "}\n",
    "\n",
    "\n",
    "def path_cost(path):\n",
    "    total_cost = 0\n",
    "    for (node,cost) in path:\n",
    "        total_cost += cost\n",
    "    return total_cost , path[-1][0]\n",
    "\n",
    "#path = [('S',0) , ('D',5) , ('G' , 5)]\n",
    "#print(path_cost(path))"
   ]
  },
  {
   "cell_type": "code",
   "execution_count": 4,
   "metadata": {},
   "outputs": [],
   "source": [
    "def ucs (graph , start , goal):\n",
    "    visited = []\n",
    "    queue = [[(start,0)]]\n",
    "    \n",
    "    while queue:\n",
    "        queue.sort(key = path_cost)\n",
    "        path = queue.pop(0)\n",
    "        node = path[-1][0]\n",
    "        if node in visited:\n",
    "            continue\n",
    "        visited.append(node)\n",
    "        if node == goal:\n",
    "            return path\n",
    "        else:\n",
    "            adjacent_nodes = graph.get(node,[])\n",
    "            for (node2 , cost) in adjacent_nodes:\n",
    "                new_path = path.copy()\n",
    "                new_path.append((node2,cost))\n",
    "                queue.append(new_path)\n",
    "    "
   ]
  },
  {
   "cell_type": "code",
   "execution_count": 5,
   "metadata": {},
   "outputs": [
    {
     "name": "stdout",
     "output_type": "stream",
     "text": [
      "Solution is [('S', 0), ('A', 2), ('C', 4), ('G', 2)]\n",
      "Cost of Solution is (8, 'G')\n"
     ]
    }
   ],
   "source": [
    "solution = ucs(graph,'S','G')\n",
    "print(\"Solution is\", solution)\n",
    "print(\"Cost of Solution is\" , path_cost(solution) )"
   ]
  },
  {
   "cell_type": "markdown",
   "metadata": {},
   "source": [
    "# A Star (A*) Search"
   ]
  },
  {
   "cell_type": "code",
   "execution_count": 6,
   "metadata": {},
   "outputs": [],
   "source": [
    "\"\"\"graph = {\n",
    "    'S':[('A',1),('B',4)],\n",
    "    'A':[('B',2),('C',5),('G',12)],\n",
    "    'B':[('C',2)],\n",
    "    'C':[('G',3)]\n",
    "}\"\"\"\n",
    "graph = {\n",
    "    'S':[('C',3),('E',2),('F',1)],\n",
    "    'E':[('C',5),('S',2)],\n",
    "    'F':[('S',1),('B',5),('D',4)],\n",
    "    'C':[('E',5),('B',3),('A',1)],\n",
    "    'A':[('B',1),('Z',7)],\n",
    "    'B':[('A',1),('C',3),('F',5),('G',3)],\n",
    "    'D':[('F',4),('B',2),('G',4)],\n",
    "    'G':[('D',4),('B',3),('Z',1)],\n",
    "    'Z':[('G',1)]\n",
    "}\n",
    "H_table={\n",
    "    'S':8,\n",
    "    'F':6,\n",
    "    'E':6,\n",
    "    'C':5,\n",
    "    'D':4,\n",
    "    'B':3,\n",
    "    'A':2,\n",
    "    'G':1,\n",
    "    'Z':0\n",
    "}\n",
    "def path_f_cost(path):\n",
    "    g_cost = 0\n",
    "    for (node,cost) in path:\n",
    "        g_cost += cost\n",
    "    last_node = path[-1][0]\n",
    "    h_cost = H_table[last_node]\n",
    "    f_cost = g_cost + h_cost\n",
    "    return f_cost , last_node\n",
    "\n",
    "\n",
    "#path = [('S',0),('A',1) , ('C',5)]\n",
    "#print(path_f_cost(path))"
   ]
  },
  {
   "cell_type": "code",
   "execution_count": 7,
   "metadata": {},
   "outputs": [],
   "source": [
    "def a_star_search(graph,start,goal):\n",
    "    visited = []\n",
    "    queue = [[(start,0)]]\n",
    "    while queue:\n",
    "        queue.sort(key=path_f_cost)\n",
    "        path = queue.pop(0)\n",
    "        node = path[-1][0]\n",
    "        if node in visited :\n",
    "            continue\n",
    "        visited.append(node)\n",
    "        if node == goal:\n",
    "            return path\n",
    "        else:\n",
    "            adjacent_nodes = graph.get(node,[])\n",
    "            for (node2 , cost) in adjacent_nodes:\n",
    "                new_path = path.copy()\n",
    "                new_path.append((node2,cost))\n",
    "                queue.append(new_path)"
   ]
  },
  {
   "cell_type": "code",
   "execution_count": 8,
   "metadata": {},
   "outputs": [
    {
     "name": "stdout",
     "output_type": "stream",
     "text": [
      "Solution is [('S', 0), ('C', 3), ('A', 1), ('B', 1), ('G', 3)]\n",
      "Cost of Solution is 9\n"
     ]
    }
   ],
   "source": [
    "solution = a_star_search(graph , 'S','G')\n",
    "print(\"Solution is\",solution)\n",
    "print(\"Cost of Solution is\" , path_f_cost(solution)[0])"
   ]
  },
  {
   "cell_type": "code",
   "execution_count": 9,
   "metadata": {},
   "outputs": [
    {
     "name": "stdout",
     "output_type": "stream",
     "text": [
      "Solution is [('S', 0), ('C', 3), ('A', 1), ('B', 1), ('G', 3), ('Z', 1)]\n",
      "Cost of Solution is 9\n"
     ]
    }
   ],
   "source": [
    "graph = {\n",
    "    'S':[('C',3),('E',2),('F',1)],\n",
    "    'E':[('C',5),('S',2)],\n",
    "    'F':[('S',1),('B',5),('D',4)],\n",
    "    'C':[('E',5),('B',3),('A',1)],\n",
    "    'A':[('B',1),('Z',7)],\n",
    "    'B':[('A',1),('C',3),('F',5),('G',3)],\n",
    "    'D':[('F',4),('B',2),('G',4)],\n",
    "    'G':[('D',4),('B',3),('Z',1)],\n",
    "    'Z':[('G',1)]\n",
    "}\n",
    "H_table={\n",
    "    'S':8,\n",
    "    'F':6,\n",
    "    'E':6,\n",
    "    'C':5,\n",
    "    'D':4,\n",
    "    'B':3,\n",
    "    'A':2,\n",
    "    'G':1,\n",
    "    'Z':0\n",
    "}\n",
    "def path_f_cost(path):\n",
    "    g_cost = 0\n",
    "    for (node,cost) in path:\n",
    "        g_cost += cost\n",
    "    last_node = path[-1][0]\n",
    "    h_cost = H_table[last_node]\n",
    "    f_cost = g_cost\n",
    "    return f_cost , last_node\n",
    "def a_star_search(graph,start,goal):\n",
    "    visited = []\n",
    "    queue = [[(start,0)]]\n",
    "    while queue:\n",
    "        queue.sort(key=path_f_cost)\n",
    "        path = queue.pop(0)\n",
    "        node = path[-1][0]\n",
    "        if node in visited :\n",
    "            continue\n",
    "        visited.append(node)\n",
    "        if node == goal:\n",
    "            return path\n",
    "        else:\n",
    "            adjacent_nodes = graph.get(node,[])\n",
    "            for (node2 , cost) in adjacent_nodes:\n",
    "                new_path = path.copy()\n",
    "                new_path.append((node2,cost))\n",
    "                queue.append(new_path)\n",
    "                \n",
    "solution = a_star_search(graph , 'S','Z')\n",
    "print(\"Solution is\",solution)\n",
    "print(\"Cost of Solution is\" , path_f_cost(solution)[0])"
   ]
  },
  {
   "cell_type": "markdown",
   "metadata": {},
   "source": [
    "# ______ ________ _________ _____ ______ _____ __________ ___________ ____________ _______________"
   ]
  },
  {
   "cell_type": "code",
   "execution_count": null,
   "metadata": {},
   "outputs": [],
   "source": []
  },
  {
   "cell_type": "code",
   "execution_count": null,
   "metadata": {},
   "outputs": [],
   "source": []
  },
  {
   "cell_type": "code",
   "execution_count": null,
   "metadata": {},
   "outputs": [],
   "source": []
  },
  {
   "cell_type": "code",
   "execution_count": null,
   "metadata": {},
   "outputs": [],
   "source": []
  }
 ],
 "metadata": {
  "kernelspec": {
   "display_name": "Python 3",
   "language": "python",
   "name": "python3"
  },
  "language_info": {
   "codemirror_mode": {
    "name": "ipython",
    "version": 3
   },
   "file_extension": ".py",
   "mimetype": "text/x-python",
   "name": "python",
   "nbconvert_exporter": "python",
   "pygments_lexer": "ipython3",
   "version": "3.7.7"
  }
 },
 "nbformat": 4,
 "nbformat_minor": 4
}
